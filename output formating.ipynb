{
 "cells": [
  {
   "cell_type": "code",
   "execution_count": 5,
   "metadata": {},
   "outputs": [
    {
     "name": "stdout",
     "output_type": "stream",
     "text": [
      "a b c\n"
     ]
    }
   ],
   "source": [
    "print('a', 'b', 'c')"
   ]
  },
  {
   "cell_type": "code",
   "execution_count": 8,
   "metadata": {},
   "outputs": [
    {
     "name": "stdout",
     "output_type": "stream",
     "text": [
      "mai-bhut-khatarnaak-hu\n"
     ]
    }
   ],
   "source": [
    "print('mai','bhut','khatarnaak','hu', sep='-')"
   ]
  },
  {
   "cell_type": "code",
   "execution_count": 9,
   "metadata": {},
   "outputs": [],
   "source": [
    "# for new line  "
   ]
  },
  {
   "cell_type": "code",
   "execution_count": 11,
   "metadata": {},
   "outputs": [
    {
     "name": "stdout",
     "output_type": "stream",
     "text": [
      "mai\tbhut\tkhatarnaak\thu\n"
     ]
    }
   ],
   "source": [
    "print('mai','bhut','khatarnaak','hu', sep='\\t')"
   ]
  },
  {
   "cell_type": "code",
   "execution_count": 13,
   "metadata": {},
   "outputs": [
    {
     "name": "stdout",
     "output_type": "stream",
     "text": [
      "mai\n",
      "bhut\n",
      "khatarnaak\n",
      "hu\n"
     ]
    }
   ],
   "source": [
    "print('mai','bhut','khatarnaak','hu', sep='\\n')"
   ]
  },
  {
   "cell_type": "code",
   "execution_count": 15,
   "metadata": {},
   "outputs": [
    {
     "name": "stdout",
     "output_type": "stream",
     "text": [
      "mai->bhut->khatarnaak->"
     ]
    }
   ],
   "source": [
    "print('mai', end='->')\n",
    "print('bhut', end='->')\n",
    "print('khatarnaak', end='->')"
   ]
  },
  {
   "cell_type": "code",
   "execution_count": 20,
   "metadata": {},
   "outputs": [
    {
     "name": "stdout",
     "output_type": "stream",
     "text": [
      "my name is Siddhantand my hobby is gyming\n"
     ]
    }
   ],
   "source": [
    "# conacatenation of strings\n",
    "myname = \"Siddhant\"\n",
    "hobby = \"gyming\"\n",
    "print('my name is '+ myname +'and my hobby is '+ hobby)"
   ]
  },
  {
   "cell_type": "code",
   "execution_count": 23,
   "metadata": {},
   "outputs": [
    {
     "name": "stdout",
     "output_type": "stream",
     "text": [
      "my name is  Siddhant and my hobby is  gyming\n"
     ]
    }
   ],
   "source": [
    "# f-string\n",
    "print(f'my name is  {myname} and my hobby is  {hobby}')"
   ]
  },
  {
   "cell_type": "code",
   "execution_count": 5,
   "metadata": {},
   "outputs": [
    {
     "name": "stdout",
     "output_type": "stream",
     "text": [
      "19\n",
      "18\n",
      "17\n",
      "16\n",
      "15\n",
      "14\n",
      "13\n",
      "12\n",
      "11\n",
      "10\n",
      "9\n",
      "8\n",
      "7\n",
      "6\n",
      "5\n",
      "5\n"
     ]
    }
   ],
   "source": [
    "# While loops\n",
    "num = 20\n",
    "\n",
    "while num>5:\n",
    "    num -= 1\n",
    "    print(num)\n",
    "    \n",
    "print(num)\n",
    "    "
   ]
  },
  {
   "cell_type": "code",
   "execution_count": 2,
   "metadata": {},
   "outputs": [
    {
     "name": "stdout",
     "output_type": "stream",
     "text": [
      "dimag lagao chabhi payo\n"
     ]
    }
   ],
   "source": [
    "mypassword = 'dimag lagao chabhi payo'\n",
    "while True:\n",
    "    pwd = input('enter your password:')\n",
    "    \n",
    "    if pwd == mypassword:\n",
    "        print('dimag lagao chabhi payo')\n",
    "        break\n",
    "    else:\n",
    "        print('dekha maine kaha dimag nhi hai')"
   ]
  },
  {
   "cell_type": "code",
   "execution_count": 5,
   "metadata": {},
   "outputs": [
    {
     "name": "stdout",
     "output_type": "stream",
     "text": [
      "dekha maine kaha dimag nhi hai\n",
      "dekha maine kaha dimag nhi hai\n",
      "dekha maine kaha dimag nhi hai\n",
      "you have reached mazximum attempts\n"
     ]
    }
   ],
   "source": [
    "mypassword = 'dimag lagao chabhi payo'\n",
    "\n",
    "count=0\n",
    "while True:\n",
    "    pwd = input('enter your password:')\n",
    "    \n",
    "    if pwd == mypassword:\n",
    "        print('dimag lagao chabhi payo')\n",
    "        break\n",
    "    else:\n",
    "        print('dekha maine kaha dimag nhi hai')\n",
    "        \n",
    "    count += 1\n",
    "    if count ==3:\n",
    "        print('you have reached mazximum attempts')\n",
    "        break\n",
    "    \n",
    "        "
   ]
  },
  {
   "cell_type": "code",
   "execution_count": 10,
   "metadata": {},
   "outputs": [
    {
     "name": "stdout",
     "output_type": "stream",
     "text": [
      "4561323\n",
      "reverse of the num is 3231654\n"
     ]
    }
   ],
   "source": [
    "# Program to reverse digits of a number\n",
    "\n",
    "num=int(input('enter the number:'))\n",
    "reverse = 0\n",
    "print(num)\n",
    "\n",
    "while num>0:\n",
    "    d = num%10\n",
    "    reverse = reverse * 10 + d\n",
    "    num= num//10\n",
    "    \n",
    "print('reverse of the num is', reverse)"
   ]
  },
  {
   "cell_type": "code",
   "execution_count": 18,
   "metadata": {},
   "outputs": [
    {
     "name": "stdout",
     "output_type": "stream",
     "text": [
      "44556644\n",
      "the number is not palindrome\n"
     ]
    }
   ],
   "source": [
    "# how to check number is palindrome or not \n",
    "\n",
    "num=int(input('enter the number:'))\n",
    "reverse = 0\n",
    "u=num\n",
    "print(num)\n",
    "\n",
    "while num>0:\n",
    "    d = num%10\n",
    "    reverse = reverse * 10 + d\n",
    "    num= num//10\n",
    "    \n",
    "if u==reverse:\n",
    "    print('the number is palindrome')\n",
    "else:\n",
    "    print('the number is not palindrome')\n"
   ]
  },
  {
   "cell_type": "code",
   "execution_count": 2,
   "metadata": {},
   "outputs": [
    {
     "name": "stdout",
     "output_type": "stream",
     "text": [
      "407\n",
      "the number is arm strong\n"
     ]
    }
   ],
   "source": [
    "# armstrong number\n",
    "num=int(input('enter the number:'))\n",
    "reverse = 0\n",
    "u=num\n",
    "print(num)\n",
    "\n",
    "while num>0:\n",
    "    d = num%10\n",
    "    reverse = reverse+ d**3\n",
    "    num= num//10\n",
    "    \n",
    "if u==reverse:\n",
    "    print('the number is arm strong')\n",
    "else:\n",
    "    print('the number is not arm strong')\n"
   ]
  }
 ],
 "metadata": {
  "kernelspec": {
   "display_name": "Python 3",
   "language": "python",
   "name": "python3"
  },
  "language_info": {
   "codemirror_mode": {
    "name": "ipython",
    "version": 3
   },
   "file_extension": ".py",
   "mimetype": "text/x-python",
   "name": "python",
   "nbconvert_exporter": "python",
   "pygments_lexer": "ipython3",
   "version": "3.10.11"
  },
  "orig_nbformat": 4
 },
 "nbformat": 4,
 "nbformat_minor": 2
}
