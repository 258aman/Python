{
 "cells": [
  {
   "cell_type": "code",
   "execution_count": 2,
   "metadata": {},
   "outputs": [
    {
     "name": "stdout",
     "output_type": "stream",
     "text": [
      "siddhant\n"
     ]
    }
   ],
   "source": [
    "name = 'siddhant' \n",
    "print(name)"
   ]
  },
  {
   "cell_type": "code",
   "execution_count": 2,
   "metadata": {},
   "outputs": [
    {
     "name": "stdout",
     "output_type": "stream",
     "text": [
      "34\n",
      "2\n",
      "9\n",
      "32\n",
      "48\n",
      "1\n"
     ]
    }
   ],
   "source": [
    "nums = [34, 2, 9, 32, 48, 1]\n",
    "\n",
    "for n in nums:\n",
    "    print(n)    "
   ]
  },
  {
   "cell_type": "code",
   "execution_count": 13,
   "metadata": {},
   "outputs": [],
   "source": [
    "for i in range(0, len(nums)-1):\n",
    "    for j in range(0, len(nums)-i-1):\n",
    "        if nums[j] > nums[j+1]:\n",
    "            nums[j] , nums[j + 1] = nums[j + 1], nums[j]"
   ]
  },
  {
   "cell_type": "code",
   "execution_count": 17,
   "metadata": {},
   "outputs": [
    {
     "data": {
      "text/plain": [
       "[48, 34, 32, 9, 2, 1]"
      ]
     },
     "execution_count": 17,
     "metadata": {},
     "output_type": "execute_result"
    }
   ],
   "source": [
    "nums"
   ]
  },
  {
   "cell_type": "code",
   "execution_count": 14,
   "metadata": {},
   "outputs": [],
   "source": [
    "for i in range(0, len(nums)-1):\n",
    "    for j in range(0, len(nums)-i-1):\n",
    "        if nums[j] < nums[j+1]:\n",
    "            nums[j] , nums[j + 1] = nums[j + 1], nums[j]"
   ]
  },
  {
   "cell_type": "code",
   "execution_count": 15,
   "metadata": {},
   "outputs": [
    {
     "data": {
      "text/plain": [
       "[48, 34, 32, 9, 2, 1]"
      ]
     },
     "execution_count": 15,
     "metadata": {},
     "output_type": "execute_result"
    }
   ],
   "source": [
    "nums"
   ]
  },
  {
   "cell_type": "code",
   "execution_count": 16,
   "metadata": {},
   "outputs": [
    {
     "name": "stdout",
     "output_type": "stream",
     "text": [
      "[48, 34, 32, 9, 2, 1]\n",
      "[48, 34, 32, 9, 2, 1]\n",
      "[48, 34, 32, 9, 2, 1]\n",
      "[48, 34, 32, 9, 2, 1]\n",
      "[48, 34, 32, 9, 2, 1]\n",
      "\n",
      "[48, 34, 32, 9, 2, 1]\n",
      "[48, 34, 32, 9, 2, 1]\n",
      "[48, 34, 32, 9, 2, 1]\n",
      "[48, 34, 32, 9, 2, 1]\n",
      "\n",
      "[48, 34, 32, 9, 2, 1]\n",
      "[48, 34, 32, 9, 2, 1]\n",
      "[48, 34, 32, 9, 2, 1]\n",
      "\n",
      "[48, 34, 32, 9, 2, 1]\n",
      "[48, 34, 32, 9, 2, 1]\n",
      "\n",
      "[48, 34, 32, 9, 2, 1]\n",
      "\n"
     ]
    }
   ],
   "source": [
    "for i in range(0, len(nums)-1):\n",
    "    for j in range(0, len(nums)-i-1):\n",
    "        if nums[j] < nums[j+1]:\n",
    "            nums[j] , nums[j + 1] = nums[j + 1], nums[j]\n",
    "        print(nums)\n",
    "    print()"
   ]
  },
  {
   "cell_type": "code",
   "execution_count": 11,
   "metadata": {},
   "outputs": [
    {
     "data": {
      "text/plain": [
       "[35, 5435, 56, 3, 45]"
      ]
     },
     "execution_count": 11,
     "metadata": {},
     "output_type": "execute_result"
    }
   ],
   "source": [
    "mylist = [35, 5435, 56, 3]\n",
    "mylist.append(45)\n",
    "mylist"
   ]
  },
  {
   "cell_type": "code",
   "execution_count": 12,
   "metadata": {},
   "outputs": [
    {
     "name": "stdout",
     "output_type": "stream",
     "text": [
      "0\n",
      "1\n",
      "1\n",
      "2\n",
      "3\n",
      "5\n",
      "8\n",
      "13\n",
      "21\n",
      "34\n",
      "55\n",
      "89\n"
     ]
    }
   ],
   "source": [
    "a, b = 0, 1\n",
    "fibo = [a, b]\n",
    "print(a, b, sep='\\n')\n",
    "\n",
    "for i in range(10):\n",
    "    c = a + b\n",
    "    print(c)\n",
    "\n",
    "    a, b = b, c"
   ]
  },
  {
   "cell_type": "code",
   "execution_count": 25,
   "metadata": {},
   "outputs": [
    {
     "data": {
      "text/plain": [
       "[1, 2, 9, 32, 34, 48]"
      ]
     },
     "execution_count": 25,
     "metadata": {},
     "output_type": "execute_result"
    }
   ],
   "source": [
    "#sorting shortcut\n",
    "\n",
    "num=[54,87,65,25]\n",
    "sorted(nums)"
   ]
  },
  {
   "cell_type": "code",
   "execution_count": 14,
   "metadata": {},
   "outputs": [
    {
     "data": {
      "text/plain": [
       "[98, 45, 37, 23, 20, 12]"
      ]
     },
     "execution_count": 14,
     "metadata": {},
     "output_type": "execute_result"
    }
   ],
   "source": [
    "num=[54,87,65,25]\n",
    "sorted(nums, reverse=True)\n"
   ]
  },
  {
   "cell_type": "code",
   "execution_count": 53,
   "metadata": {},
   "outputs": [],
   "source": [
    "movie='titanic'"
   ]
  },
  {
   "cell_type": "code",
   "execution_count": 60,
   "metadata": {},
   "outputs": [
    {
     "name": "stdout",
     "output_type": "stream",
     "text": [
      "t\n",
      "t\n",
      "n\n",
      "c\n"
     ]
    }
   ],
   "source": [
    "for i in range(0, len(movie)):\n",
    "    if i%2==0:\n",
    "        print(movie[i])"
   ]
  },
  {
   "cell_type": "code",
   "execution_count": 12,
   "metadata": {},
   "outputs": [],
   "source": [
    "nums = [37, 20, 98, 23, 45, 12]"
   ]
  },
  {
   "cell_type": "code",
   "execution_count": 13,
   "metadata": {},
   "outputs": [
    {
     "name": "stdout",
     "output_type": "stream",
     "text": [
      "[20, 37, 98, 23, 45, 12]\n",
      "[20, 37, 23, 98, 45, 12]\n",
      "[20, 37, 23, 45, 98, 12]\n",
      "[20, 37, 23, 45, 12, 98]\n",
      "[20, 23, 37, 45, 12, 98]\n",
      "[20, 23, 37, 12, 45, 98]\n",
      "[20, 23, 12, 37, 45, 98]\n",
      "[20, 12, 23, 37, 45, 98]\n",
      "[12, 20, 23, 37, 45, 98]\n",
      "minimum no: 12\n",
      "maximum no: 98\n"
     ]
    }
   ],
   "source": [
    "for i in range(0, len(nums)-1):\n",
    "    for j in range(0, len(nums)-i-1):\n",
    "        if nums[j] > nums[j+1]:\n",
    "            nums[j] , nums[j + 1] = nums[j + 1], nums[j]\n",
    "            print(nums)\n",
    "print(\"minimum no:\", nums[0])\n",
    "print(\"maximum no:\",nums[-1])"
   ]
  },
  {
   "cell_type": "code",
   "execution_count": 15,
   "metadata": {},
   "outputs": [
    {
     "data": {
      "text/plain": [
       "[35, 5435, 56, 3, 45]"
      ]
     },
     "execution_count": 15,
     "metadata": {},
     "output_type": "execute_result"
    }
   ],
   "source": [
    "mylist = [35, 5435, 56, 3]\n",
    "mylist.append(45)\n",
    "mylist"
   ]
  },
  {
   "cell_type": "code",
   "execution_count": 16,
   "metadata": {},
   "outputs": [
    {
     "name": "stdout",
     "output_type": "stream",
     "text": [
      "[45]\n",
      "[45, 85]\n",
      "[45, 85, 95]\n",
      "[45, 85, 95, 77]\n",
      "[45, 85, 95, 77, 15]\n",
      "[45, 85, 95, 77, 15]\n"
     ]
    }
   ],
   "source": [
    "# take 5 numbers as input from user and store in a list\n",
    "\n",
    "userinput = []\n",
    "for i in range(5):\n",
    "    n = int(input(\"Enter a number: \"))\n",
    "    userinput.append(n)\n",
    "    print(userinput)\n",
    "\n",
    "print(userinput)"
   ]
  },
  {
   "cell_type": "code",
   "execution_count": 23,
   "metadata": {},
   "outputs": [
    {
     "name": "stdout",
     "output_type": "stream",
     "text": [
      "[44]\n",
      "[44, 65]\n",
      "[44, 65, 47]\n",
      "[44, 65, 47, 74]\n",
      "[44, 65, 47, 74, 85]\n",
      "minimum number= 44\n"
     ]
    }
   ],
   "source": [
    "# Input number for user and print if it is smallest from number stored in a lis\n",
    "\n",
    "userinput = []\n",
    "for i in range(5):\n",
    "    n = int(input(\"Enter a number: \"))\n",
    "    userinput.append(n)\n",
    "    print(userinput)\n",
    "min=userinput[0]\n",
    "for i in range(5):\n",
    "    if (userinput[i]<min):\n",
    "        min=userinput(i)\n",
    "print(\"minimum number=\", min)"
   ]
  },
  {
   "cell_type": "code",
   "execution_count": null,
   "metadata": {},
   "outputs": [],
   "source": []
  }
 ],
 "metadata": {
  "kernelspec": {
   "display_name": "Python 3",
   "language": "python",
   "name": "python3"
  },
  "language_info": {
   "codemirror_mode": {
    "name": "ipython",
    "version": 3
   },
   "file_extension": ".py",
   "mimetype": "text/x-python",
   "name": "python",
   "nbconvert_exporter": "python",
   "pygments_lexer": "ipython3",
   "version": "3.10.11"
  },
  "orig_nbformat": 4
 },
 "nbformat": 4,
 "nbformat_minor": 2
}
