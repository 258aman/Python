{
 "cells": [
  {
   "cell_type": "code",
   "execution_count": 28,
   "metadata": {},
   "outputs": [
    {
     "name": "stdout",
     "output_type": "stream",
     "text": [
      "         *\n",
      "        **\n",
      "       ***\n",
      "      ****\n",
      "     *****\n",
      "    ******\n",
      "   *******\n",
      "  ********\n",
      " *********\n",
      "  ********\n",
      "   *******\n",
      "    ******\n",
      "     *****\n",
      "      ****\n",
      "       ***\n",
      "        **\n"
     ]
    }
   ],
   "source": [
    "# 1\n",
    "for i in range(1, 9):\n",
    "    print((i *\"*\").rjust(10))\n",
    "for i in range(9, 1, -1):\n",
    "    print(('*' *i).rjust(10))"
   ]
  },
  {
   "cell_type": "code",
   "execution_count": 32,
   "metadata": {},
   "outputs": [
    {
     "name": "stdout",
     "output_type": "stream",
     "text": [
      "Sorry try again\n",
      "Sorry try again\n",
      "Sorry try again\n",
      "you have to reached maximum limit\n"
     ]
    }
   ],
   "source": [
    "# 5\n",
    "name=input('siddhant')\n",
    "count=0\n",
    "while True:\n",
    "    pswd=input('enter a name')\n",
    "    if pswd=='siddhant':\n",
    "        print('welcome to my company')\n",
    "        break \n",
    "        \n",
    "        \n",
    "    else:\n",
    "        print('Sorry try again')\n",
    "    count +=1\n",
    "    if count==3:\n",
    "       print('you have to reached maximum limit')\n",
    "       break"
   ]
  },
  {
   "cell_type": "code",
   "execution_count": null,
   "metadata": {},
   "outputs": [],
   "source": []
  },
  {
   "cell_type": "code",
   "execution_count": null,
   "metadata": {},
   "outputs": [],
   "source": []
  },
  {
   "cell_type": "code",
   "execution_count": null,
   "metadata": {},
   "outputs": [],
   "source": []
  },
  {
   "cell_type": "code",
   "execution_count": 40,
   "metadata": {},
   "outputs": [
    {
     "name": "stdout",
     "output_type": "stream",
     "text": [
      "Addition of first no and last no. 9\n"
     ]
    }
   ],
   "source": [
    "# 3\n",
    "number = input('enter the number')\n",
    " \n",
    "firstdigit = int(number[0])\n",
    "lastdigit = int(number[-1])\n",
    "addition = (firstdigit + lastdigit)\n",
    "print('Addition of first no and last no.',addition)"
   ]
  },
  {
   "cell_type": "code",
   "execution_count": 17,
   "metadata": {},
   "outputs": [
    {
     "name": "stdout",
     "output_type": "stream",
     "text": [
      "Not prime\n"
     ]
    }
   ],
   "source": [
    "#2 WAP to print all prime number in range of(10,99).\n",
    "num=int(input('enter value'))\n",
    "\n",
    "p = 0\n",
    "\n",
    "for i in range(10,99):\n",
    "    if num%i ==0:\n",
    "        p = 1\n",
    "\n",
    "if p == 1:\n",
    "    print(\"Not prime\")\n",
    "else:\n",
    "    print(\"Prime\")"
   ]
  },
  {
   "cell_type": "code",
   "execution_count": 20,
   "metadata": {},
   "outputs": [
    {
     "name": "stdout",
     "output_type": "stream",
     "text": [
      "smallest no: 45\n",
      "largest no: 87\n"
     ]
    }
   ],
   "source": [
    "# input three number from user and display the smallest and largest number.\n",
    "nums = [87, 45, 77]\n",
    "\n",
    "for i in range(0, len(nums)-1):\n",
    "    for j in range(0, len(nums)-i-1):\n",
    "        if nums[j] > nums[j+1]:\n",
    "            nums[j] , nums[j + 1] = nums[j + 1], nums[j]\n",
    "print(\"smallest no:\", nums[0])\n",
    "print(\"largest no:\",nums[-1])"
   ]
  }
 ],
 "metadata": {
  "kernelspec": {
   "display_name": "Python 3",
   "language": "python",
   "name": "python3"
  },
  "language_info": {
   "codemirror_mode": {
    "name": "ipython",
    "version": 3
   },
   "file_extension": ".py",
   "mimetype": "text/x-python",
   "name": "python",
   "nbconvert_exporter": "python",
   "pygments_lexer": "ipython3",
   "version": "3.11.1"
  },
  "orig_nbformat": 4
 },
 "nbformat": 4,
 "nbformat_minor": 2
}
