{
 "cells": [
  {
   "cell_type": "code",
   "execution_count": 2,
   "metadata": {},
   "outputs": [
    {
     "name": "stdout",
     "output_type": "stream",
     "text": [
      "b is greater than a \n"
     ]
    }
   ],
   "source": [
    "a=int(input('enter a'))\n",
    "b=int(input('enter b'))\n",
    "\n",
    "if a>b:\n",
    "    print('a is greater than b')\n",
    "    print('a is larger')\n",
    "    print('b is smaller')\n",
    "else:\n",
    "    print('b is greater than a ')\n",
    "            "
   ]
  },
  {
   "cell_type": "code",
   "execution_count": 13,
   "metadata": {},
   "outputs": [
    {
     "name": "stdout",
     "output_type": "stream",
     "text": [
      "EVEN\n"
     ]
    }
   ],
   "source": [
    "# Program to check if a number is even or odd\n",
    "E=int(input('num'))\n",
    "\n",
    "if E%2==0:\n",
    "    print('EVEN')\n",
    "else:\n",
    "    print('odd')\n",
    "    \n"
   ]
  },
  {
   "cell_type": "code",
   "execution_count": 19,
   "metadata": {},
   "outputs": [],
   "source": [
    "# program to display the grade from marks\n",
    "marks=int(input('enter marks'))\n"
   ]
  },
  {
   "cell_type": "code",
   "execution_count": 21,
   "metadata": {},
   "outputs": [
    {
     "name": "stdout",
     "output_type": "stream",
     "text": [
      "papu ka cut gya Fail\n"
     ]
    }
   ],
   "source": [
    "if marks >90:\n",
    "    print('Grade A')\n",
    "elif marks > 70:\n",
    "    print('Grade B')\n",
    "elif marks > 60:\n",
    "     print('Grade C')\n",
    "else:\n",
    "    print('papu ka cut gya Fail')"
   ]
  },
  {
   "cell_type": "code",
   "execution_count": 25,
   "metadata": {},
   "outputs": [
    {
     "name": "stdout",
     "output_type": "stream",
     "text": [
      "Grade B\n"
     ]
    }
   ],
   "source": [
    "marks = int(input('enter marks'))\n",
    "\n",
    "if marks >90 and marks <= 100:\n",
    "    print('Grade A')\n",
    "elif marks >= 70 and marks < 90:\n",
    "    print('Grade B')\n",
    "elif marks >= 60 and marks < 80:\n",
    "    print('Grade C')\n",
    "elif marks >= 0 and marks < 50:\n",
    "     print('papu ka cut gya Fail')\n",
    "else:\n",
    "    print('invalid marks')"
   ]
  },
  {
   "cell_type": "code",
   "execution_count": 16,
   "metadata": {},
   "outputs": [
    {
     "name": "stdout",
     "output_type": "stream",
     "text": [
      "divisible by both\n"
     ]
    }
   ],
   "source": [
    "# Program to check if a number is divisible by 7 or 11.\n",
    "\n",
    "num=int(input('num'))\n",
    "if num%7==0 and num%11 ==0:\n",
    "    print('divisible by both')\n",
    "elif num%7==0 :\n",
    "    print('divisible by 7 but not by 11')\n",
    "elif num%11==0 :\n",
    "    print('divisible by 11 but not by 7')\n",
    "else :\n",
    "    print('not divisible by 7 or 11')\n"
   ]
  },
  {
   "cell_type": "code",
   "execution_count": null,
   "metadata": {},
   "outputs": [],
   "source": [
    "# triangle is possible or not"
   ]
  },
  {
   "cell_type": "code",
   "execution_count": 6,
   "metadata": {},
   "outputs": [],
   "source": [
    "angle1=int(input('enter value'))\n"
   ]
  },
  {
   "cell_type": "code",
   "execution_count": 8,
   "metadata": {},
   "outputs": [],
   "source": [
    "angle2=int(input('enter value'))\n"
   ]
  },
  {
   "cell_type": "code",
   "execution_count": 11,
   "metadata": {},
   "outputs": [],
   "source": [
    "angle3=int(input('enter value'))\n",
    "\n"
   ]
  },
  {
   "cell_type": "code",
   "execution_count": 14,
   "metadata": {},
   "outputs": [
    {
     "name": "stdout",
     "output_type": "stream",
     "text": [
      "triangle is possible\n"
     ]
    }
   ],
   "source": [
    "if angle1+angle2+angle3==180 :\n",
    "    print('triangle is possible')\n",
    "else :\n",
    "    print('triangle is not possible')"
   ]
  },
  {
   "cell_type": "code",
   "execution_count": 1,
   "metadata": {},
   "outputs": [],
   "source": [
    "# write a program to check an angle input by user is acute,right, obtuse or straight also print if invalid"
   ]
  },
  {
   "cell_type": "code",
   "execution_count": 4,
   "metadata": {},
   "outputs": [
    {
     "name": "stdout",
     "output_type": "stream",
     "text": [
      "obtuse angle\n"
     ]
    }
   ],
   "source": [
    "angle=int(input('enter value of angle'))\n",
    "if angle<90 :\n",
    "    print('acute angle')\n",
    "elif angle==90 :\n",
    "    print('right angle')\n",
    "elif angle>90:\n",
    "    print('obtuse angle')\n",
    "elif angle==180:\n",
    "    print('straight angle')\n",
    "else :\n",
    "    print('invalid angle')"
   ]
  },
  {
   "cell_type": "code",
   "execution_count": 1,
   "metadata": {},
   "outputs": [
    {
     "name": "stdout",
     "output_type": "stream",
     "text": [
      "cold\n"
     ]
    }
   ],
   "source": [
    "# programma to print different message on different temperature\n",
    "tem=int(input('value of temperature'))\n",
    "if tem<=10:\n",
    "    print('very cold')\n",
    "elif tem<=20:\n",
    "    print('cold')\n",
    "elif tem<=30:\n",
    "    print('hot')\n",
    "elif tem<=40:\n",
    "    print('very hot')\n",
    "else: \n",
    "    print('temperature is not defined')"
   ]
  },
  {
   "cell_type": "code",
   "execution_count": 5,
   "metadata": {},
   "outputs": [
    {
     "name": "stdout",
     "output_type": "stream",
     "text": [
      "num is perfect square\n"
     ]
    }
   ],
   "source": [
    "# programme to check num is perfect square\n",
    "num=int(input('value of num'))\n",
    "sqrt = num**0.5\n",
    "if sqrt ==int(sqrt):\n",
    "    print('num is perfect square')\n",
    "else:\n",
    "    print('num is not perfect square')\n"
   ]
  },
  {
   "cell_type": "code",
   "execution_count": 7,
   "metadata": {},
   "outputs": [
    {
     "name": "stdout",
     "output_type": "stream",
     "text": [
      "num1 is greater than 40\n",
      "num1 is greater than 60\n"
     ]
    }
   ],
   "source": [
    "num1 = 100\n",
    "\n",
    "if num1>40:\n",
    "    print('num1 is greater than 40')\n",
    "if num1>60:\n",
    "    print('num1 is greater than 60')\n",
    "elif num>90:\n",
    "    print('num1 greater than 90')    \n"
   ]
  },
  {
   "cell_type": "code",
   "execution_count": 8,
   "metadata": {},
   "outputs": [],
   "source": [
    "# nested if condition "
   ]
  },
  {
   "cell_type": "code",
   "execution_count": 10,
   "metadata": {},
   "outputs": [
    {
     "name": "stdout",
     "output_type": "stream",
     "text": [
      "divisible by 2 and 6\n"
     ]
    }
   ],
   "source": [
    "# programme to check if a number divisible by 2 but not by 6\n",
    "num = int(input('enter a value'))\n",
    "\n",
    "if num %2==0:\n",
    "    if num% 6!=0:\n",
    "        print('divisible by 2 but not by 6')\n",
    "    else:\n",
    "        print('divisible by 2 and 6')\n",
    "else:\n",
    "    print('not divisible by 2')"
   ]
  },
  {
   "cell_type": "code",
   "execution_count": 16,
   "metadata": {},
   "outputs": [
    {
     "name": "stdout",
     "output_type": "stream",
     "text": [
      "na manoge ladka phuch raha hai\n"
     ]
    }
   ],
   "source": [
    "# order for veg and non-veg\n",
    "choice = input('jo chaho vo khao, 1. veg 2. Non-veg :')\n",
    "\n",
    "if choice == 'veg':\n",
    "    veg=input('jo chaho vo kaho, 1. Musroom 2. Kadai paneer 3.mix veg')\n",
    "    if  veg=='musroom':\n",
    "        print('order is on the way')\n",
    "    elif  veg=='kadai paneer':\n",
    "        print('ruko jara sabar karo')\n",
    "    elif  veg=='mix veg':\n",
    "        print('na manoge ladka phuch raha hai')\n",
    "    else:\n",
    "        print('ladka bhuka marega')\n",
    "elif choice == 'non-veg':\n",
    "    nonveg = input('enter your choice, 1. chicken 2.mutton 3. fish')\n",
    "    if  nonveg=='chicken':\n",
    "        print('order is on the way')\n",
    "    elif nonveg=='mutton':\n",
    "        print('ruko jara sabar karo')\n",
    "    elif nonveg=='fish':\n",
    "        print('na manoge ladka phuch raha hai')\n",
    "    else:\n",
    "        print('ladka bhuka marega')\n",
    "            \n",
    "            "
   ]
  },
  {
   "cell_type": "code",
   "execution_count": 21,
   "metadata": {},
   "outputs": [],
   "source": [
    "# program to chosse shape 1 circle2 rectangle\n",
    "\n",
    "\n"
   ]
  },
  {
   "cell_type": "code",
   "execution_count": 28,
   "metadata": {},
   "outputs": [
    {
     "name": "stdout",
     "output_type": "stream",
     "text": [
      "75.36\n"
     ]
    }
   ],
   "source": [
    "choice = input('shapes, 1. circle 2. rectangle :')\n",
    "if choice=='circle':\n",
    "    Radius=int(input('Radius'))\n",
    "    pie=3.14\n",
    "    area=2*pie*Radius\n",
    "    \n",
    "\n",
    "elif choice=='rectangle':\n",
    "    length=int(input('Length'))\n",
    "    bredth=int(input('bredth'))\n",
    "    area=length*bredth\n",
    "   \n",
    "print(area)"
   ]
  },
  {
   "cell_type": "code",
   "execution_count": 21,
   "metadata": {},
   "outputs": [],
   "source": [
    "# WAP to check whether a year is leap year or not.\n",
    "  "
   ]
  },
  {
   "cell_type": "code",
   "execution_count": 3,
   "metadata": {},
   "outputs": [
    {
     "name": "stdout",
     "output_type": "stream",
     "text": [
      "year is leap year\n"
     ]
    }
   ],
   "source": [
    "Year = int(input(\"Enter the number:\")) \n",
    "if(Year % 400 == 0) or (Year % 4==0):\n",
    "     print('year is leap year')\n",
    "else:\n",
    "     print('year is not a leap year')"
   ]
  },
  {
   "cell_type": "code",
   "execution_count": 31,
   "metadata": {},
   "outputs": [
    {
     "name": "stdout",
     "output_type": "stream",
     "text": [
      "Saturday matlb aj bneaga mahool\n"
     ]
    }
   ],
   "source": [
    "# WAP to accept a number from 1 to 7 and display the name of the day like 1 for Sunday , 2 for Monday and so on.\n",
    "\n",
    "day=int(input('enter a value from 1 to 7:'))\n",
    "if day==1:\n",
    "    print('sunday matlb fun day')\n",
    "elif day==2:\n",
    "    print('monday matlb dimag ka dahi')\n",
    "elif day==3:\n",
    "    print('tuesday hanuman ji ka din')\n",
    "elif day==4:\n",
    "    print('wednesday matlb kat rhi hai')\n",
    "elif day==5:\n",
    "    print('Thursday matlb Sai ji ka din')\n",
    "elif day==6:\n",
    "    print('Friday matlb sat ki planing')\n",
    "elif day==7:\n",
    "    print('Saturday matlb aj bneaga mahool')\n",
    "else:\n",
    "    print('invalid day')"
   ]
  },
  {
   "cell_type": "code",
   "execution_count": 5,
   "metadata": {},
   "outputs": [
    {
     "name": "stdout",
     "output_type": "stream",
     "text": [
      "num2 is greater\n"
     ]
    }
   ],
   "source": [
    "# WAP to find the largest from 3 numbers input by user\n",
    "\n",
    "num1=int(input('enter a value num1'))\n",
    "num2=int(input('enter a value num2'))\n",
    "num3=int(input('enter a value num3'))\n",
    "\n",
    "if num1>num2 and num1>num3: \n",
    "    print('num1 is greater')  \n",
    "elif num2>num1 and num2>num3:\n",
    "    print('num2 is greater')\n",
    "else:\n",
    "    ('print num3 is greater')\n",
    "   "
   ]
  },
  {
   "cell_type": "code",
   "execution_count": 57,
   "metadata": {},
   "outputs": [
    {
     "name": "stdout",
     "output_type": "stream",
     "text": [
      "age4 is younger lakda jawan ho gya\n"
     ]
    }
   ],
   "source": [
    "#  Accept the age of 4 people and display the youngest one.\n",
    "\n",
    "age1 = int(input(\"Enter age Person 1:\"))\n",
    "age2 = int(input(\"Enter age Person 2:\"))\n",
    "age3 = int(input(\"Enter age Person 3:\"))\n",
    "age4 = int(input(\"Enter age Person 4:\"))\n",
    "\n",
    "if age1<age2 and age1<age3 and age1<age4:\n",
    "    print('age1 is yonger ladka jawan ho gya')\n",
    "elif age2<age1 and age2<age3 and age2<age4:\n",
    "    print('age2 is yonger ladka jawan ho gya')\n",
    "elif age3<age2 and age3<age4 and age3<age1:\n",
    "    print('age3 is yonger ladka jawan ho gya')\n",
    "else:\n",
    "    print('age4 is younger lakda jawan ho gya')"
   ]
  },
  {
   "cell_type": "code",
   "execution_count": 1,
   "metadata": {},
   "outputs": [
    {
     "name": "stdout",
     "output_type": "stream",
     "text": [
      "Vowel\n"
     ]
    }
   ],
   "source": [
    "# WAP to check a character is vowel or not.\n",
    "ch = input(\"Enter a character: \")\n",
    "if ch in 'aeiou':\n",
    "    print(\"Vowel\")\n",
    "else:\n",
    "    print(\"Not a vowel\")\n",
    "\n"
   ]
  },
  {
   "cell_type": "code",
   "execution_count": 2,
   "metadata": {},
   "outputs": [
    {
     "name": "stdout",
     "output_type": "stream",
     "text": [
      "Isoseles traingle\n"
     ]
    }
   ],
   "source": [
    "# check the type of traingle\n",
    "a, b, c = 8, 6, 8\n",
    "\n",
    "if a==b==c:\n",
    "    print(\"Equilateral traingle\")\n",
    "elif a==b or b==c or c==a:\n",
    "    print(\"Isoseles traingle\")\n",
    "else:\n",
    "    print(\"Scalene traingle\")"
   ]
  }
 ],
 "metadata": {
  "kernelspec": {
   "display_name": "Python 3",
   "language": "python",
   "name": "python3"
  },
  "language_info": {
   "codemirror_mode": {
    "name": "ipython",
    "version": 3
   },
   "file_extension": ".py",
   "mimetype": "text/x-python",
   "name": "python",
   "nbconvert_exporter": "python",
   "pygments_lexer": "ipython3",
   "version": "3.10.9"
  },
  "orig_nbformat": 4
 },
 "nbformat": 4,
 "nbformat_minor": 2
}
