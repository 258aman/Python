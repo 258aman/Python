{
 "cells": [
  {
   "cell_type": "code",
   "execution_count": 2,
   "metadata": {},
   "outputs": [],
   "source": [
    "movie = 'Titanic'"
   ]
  },
  {
   "cell_type": "code",
   "execution_count": 4,
   "metadata": {},
   "outputs": [
    {
     "name": "stdout",
     "output_type": "stream",
     "text": [
      "T\n",
      "i\n",
      "t\n",
      "a\n",
      "n\n",
      "i\n",
      "c\n"
     ]
    }
   ],
   "source": [
    "for i in movie:\n",
    "    print(i)"
   ]
  },
  {
   "cell_type": "code",
   "execution_count": 7,
   "metadata": {},
   "outputs": [
    {
     "name": "stdout",
     "output_type": "stream",
     "text": [
      "Titanic"
     ]
    }
   ],
   "source": [
    "for i in movie:\n",
    "    print(i, end=\"\")"
   ]
  },
  {
   "cell_type": "code",
   "execution_count": 9,
   "metadata": {},
   "outputs": [
    {
     "name": "stdout",
     "output_type": "stream",
     "text": [
      "loop running\n",
      "loop running\n",
      "loop running\n",
      "loop running\n",
      "loop running\n"
     ]
    }
   ],
   "source": [
    "for i in range(5):\n",
    "    print('loop running')"
   ]
  },
  {
   "cell_type": "code",
   "execution_count": 3,
   "metadata": {},
   "outputs": [
    {
     "name": "stdout",
     "output_type": "stream",
     "text": [
      "12345678910"
     ]
    }
   ],
   "source": [
    "for i in range(1, 11):\n",
    "    print(i, end=\"\")\n",
    "    "
   ]
  },
  {
   "cell_type": "code",
   "execution_count": 17,
   "metadata": {},
   "outputs": [
    {
     "name": "stdout",
     "output_type": "stream",
     "text": [
      "1 3 5 7 9 "
     ]
    }
   ],
   "source": [
    "for i in range(1,11, 2) :\n",
    "    print(i, end=' ')"
   ]
  },
  {
   "cell_type": "code",
   "execution_count": 19,
   "metadata": {},
   "outputs": [
    {
     "name": "stdout",
     "output_type": "stream",
     "text": [
      "32 34 38 40 44 46 50 52 56 58 62 64 68 "
     ]
    }
   ],
   "source": [
    "# 30 to 50 check no.\n",
    "for i in range(30,70):\n",
    "    if i%2==0 and i%6!=0:\n",
    "        print(i, end=\" \")    "
   ]
  },
  {
   "cell_type": "code",
   "execution_count": 22,
   "metadata": {},
   "outputs": [
    {
     "data": {
      "text/plain": [
       "'abc abc abc '"
      ]
     },
     "execution_count": 22,
     "metadata": {},
     "output_type": "execute_result"
    }
   ],
   "source": [
    "# pattern printing\n",
    "'abc ' * 3"
   ]
  },
  {
   "cell_type": "code",
   "execution_count": 24,
   "metadata": {},
   "outputs": [
    {
     "data": {
      "text/plain": [
       "'***'"
      ]
     },
     "execution_count": 24,
     "metadata": {},
     "output_type": "execute_result"
    }
   ],
   "source": [
    "\"*\" * 3"
   ]
  },
  {
   "cell_type": "code",
   "execution_count": 27,
   "metadata": {},
   "outputs": [
    {
     "name": "stdout",
     "output_type": "stream",
     "text": [
      " # \n",
      " #  # \n",
      " #  #  # \n",
      " #  #  #  # \n",
      " #  #  #  #  # \n",
      " #  #  #  #  #  # \n",
      " #  #  #  #  #  #  # \n",
      " #  #  #  #  #  #  #  # \n",
      " #  #  #  #  #  #  #  #  # \n"
     ]
    }
   ],
   "source": [
    "for i in range(1, 10):\n",
    "    print(' # ' * i)"
   ]
  },
  {
   "cell_type": "code",
   "execution_count": 29,
   "metadata": {},
   "outputs": [
    {
     "name": "stdout",
     "output_type": "stream",
     "text": [
      " ❤ \n",
      " ❤  ❤ \n",
      " ❤  ❤  ❤ \n",
      " ❤  ❤  ❤  ❤ \n",
      " ❤  ❤  ❤  ❤  ❤ \n",
      " ❤  ❤  ❤  ❤  ❤  ❤ \n",
      " ❤  ❤  ❤  ❤  ❤  ❤  ❤ \n",
      " ❤  ❤  ❤  ❤  ❤  ❤  ❤  ❤ \n",
      " ❤  ❤  ❤  ❤  ❤  ❤  ❤  ❤  ❤ \n",
      " ❤  ❤  ❤  ❤  ❤  ❤  ❤  ❤  ❤  ❤ \n",
      " ❤  ❤  ❤  ❤  ❤  ❤  ❤  ❤  ❤  ❤  ❤ \n",
      " ❤  ❤  ❤  ❤  ❤  ❤  ❤  ❤  ❤  ❤  ❤  ❤ \n",
      " ❤  ❤  ❤  ❤  ❤  ❤  ❤  ❤  ❤  ❤  ❤  ❤  ❤ \n",
      " ❤  ❤  ❤  ❤  ❤  ❤  ❤  ❤  ❤  ❤  ❤  ❤  ❤  ❤ \n"
     ]
    }
   ],
   "source": [
    "for i in range(1, 15):\n",
    "    print(' ❤ ' * i)"
   ]
  },
  {
   "cell_type": "code",
   "execution_count": 33,
   "metadata": {},
   "outputs": [
    {
     "name": "stdout",
     "output_type": "stream",
     "text": [
      " 🖤  🖤  🖤  🖤  🖤  🖤  🖤  🖤  🖤  🖤 \n",
      " 🖤  🖤  🖤  🖤  🖤  🖤  🖤  🖤  🖤 \n",
      " 🖤  🖤  🖤  🖤  🖤  🖤  🖤  🖤 \n",
      " 🖤  🖤  🖤  🖤  🖤  🖤  🖤 \n",
      " 🖤  🖤  🖤  🖤  🖤  🖤 \n",
      " 🖤  🖤  🖤  🖤  🖤 \n",
      " 🖤  🖤  🖤  🖤 \n",
      " 🖤  🖤  🖤 \n",
      " 🖤  🖤 \n"
     ]
    }
   ],
   "source": [
    "for i in range(10, 1, -1):\n",
    "    print(' 🖤 ' * i)"
   ]
  },
  {
   "cell_type": "code",
   "execution_count": 35,
   "metadata": {},
   "outputs": [
    {
     "name": "stdout",
     "output_type": "stream",
     "text": [
      " # \n",
      " #  # \n",
      " #  #  # \n",
      " #  #  #  # \n",
      " #  #  #  #  # \n",
      " #  #  #  #  #  # \n",
      " #  #  #  #  # \n",
      " #  #  #  # \n",
      " #  #  # \n",
      " #  # \n",
      " # \n"
     ]
    }
   ],
   "source": [
    "for i in range(1, 7):\n",
    "    print(' # ' * i)\n",
    "for i in range(5, 0, -1):\n",
    "    print(' # ' * i)"
   ]
  },
  {
   "cell_type": "code",
   "execution_count": 38,
   "metadata": {},
   "outputs": [
    {
     "data": {
      "text/plain": [
       "'       sid'"
      ]
     },
     "execution_count": 38,
     "metadata": {},
     "output_type": "execute_result"
    }
   ],
   "source": [
    "'sid' .rjust(10)"
   ]
  },
  {
   "cell_type": "code",
   "execution_count": 45,
   "metadata": {},
   "outputs": [
    {
     "name": "stdout",
     "output_type": "stream",
     "text": [
      "                  # \n",
      "                # # \n",
      "              # # # \n",
      "            # # # # \n",
      "          # # # # # \n",
      "        # # # # # # \n",
      "      # # # # # # # \n",
      "    # # # # # # # # \n",
      "  # # # # # # # # # \n"
     ]
    }
   ],
   "source": [
    "for i in range(1, 10):\n",
    "    print(('# ' * i).rjust(20))"
   ]
  },
  {
   "cell_type": "code",
   "execution_count": 49,
   "metadata": {},
   "outputs": [
    {
     "name": "stdout",
     "output_type": "stream",
     "text": [
      "ssssssssssssssssss# \n",
      "ssssssssssssssss# # \n",
      "ssssssssssssss# # # \n",
      "ssssssssssss# # # # \n",
      "ssssssssss# # # # # \n",
      "ssssssss# # # # # # \n",
      "ssssss# # # # # # # \n",
      "ssss# # # # # # # # \n",
      "ss# # # # # # # # # \n"
     ]
    }
   ],
   "source": [
    "for i in range(1, 10):\n",
    "    print(('# ' * i).rjust(20, \"s\"))"
   ]
  },
  {
   "cell_type": "code",
   "execution_count": 53,
   "metadata": {},
   "outputs": [
    {
     "name": "stdout",
     "output_type": "stream",
     "text": [
      "                             #\n",
      "                           ###\n",
      "                         #####\n",
      "                       #######\n",
      "                     #########\n",
      "                   ###########\n",
      "                 #############\n",
      "               ###############\n",
      "             #################\n",
      "           ###################\n"
     ]
    }
   ],
   "source": [
    "for i in range(1, 20, 2):\n",
    "    print(('#' * i).rjust(30))"
   ]
  },
  {
   "cell_type": "code",
   "execution_count": 75,
   "metadata": {},
   "outputs": [
    {
     "name": "stdout",
     "output_type": "stream",
     "text": [
      "                   #          \n",
      "                  ###         \n",
      "                 #####        \n",
      "                #######       \n",
      "               #########      \n",
      "              ###########     \n",
      "             #############    \n",
      "            ###############   \n",
      "           #################  \n",
      "          ################### \n"
     ]
    }
   ],
   "source": [
    "for i in range(1, 20, 2):\n",
    "    print(('#' * i).center(20).ljust(10).rjust(30))\n",
    "\n"
   ]
  },
  {
   "cell_type": "code",
   "execution_count": 61,
   "metadata": {},
   "outputs": [
    {
     "name": "stdout",
     "output_type": "stream",
     "text": [
      "                   #                    \n",
      "                #  #  #                 \n",
      "             #  #  #  #  #              \n",
      "          #  #  #  #  #  #  #           \n",
      "       #  #  #  #  #  #  #  #  #        \n",
      "          #  #  #  #  #  #  #           \n",
      "             #  #  #  #  #              \n",
      "                #  #  #                 \n",
      "                   #                    \n"
     ]
    }
   ],
   "source": [
    "for i in range(1, 10, 2):\n",
    "    print((' # ' * i).center(40))\n",
    "for i in range(7, 0, -2):\n",
    "    print((' # ' * i).center(40))"
   ]
  },
  {
   "cell_type": "code",
   "execution_count": 65,
   "metadata": {},
   "outputs": [
    {
     "name": "stdout",
     "output_type": "stream",
     "text": [
      " # # # # # # # # # #\n",
      "   # # # # # # # # #\n",
      "     # # # # # # # #\n",
      "       # # # # # # #\n",
      "         # # # # # #\n",
      "           # # # # #\n",
      "             # # # #\n",
      "               # # #\n",
      "                 # #\n",
      "                              \n",
      "                              \n",
      " #                            \n",
      " # #                          \n",
      " # # #                        \n",
      " # # # #                      \n",
      " # # # # #                    \n",
      " # # # # # #                  \n",
      " # # # # # # #                \n",
      " # # # # # # # #              \n",
      " # # # # # # # # #            \n"
     ]
    }
   ],
   "source": [
    "for i in range(10, 1, -1):\n",
    "    print((' #' * i).rjust(20))\n",
    "for i in range(-1, 10, ):\n",
    "    print((' #' * i).ljust(30))"
   ]
  },
  {
   "cell_type": "code",
   "execution_count": 77,
   "metadata": {},
   "outputs": [
    {
     "name": "stdout",
     "output_type": "stream",
     "text": [
      "308 385 462 "
     ]
    }
   ],
   "source": [
    "# WAP to check if number is divisible by 7 and 13 in range of  300 to 500\n",
    "\n",
    "for i in range(300,500):\n",
    "    if i%7==0 and i%11==0:\n",
    "        print(i, end=\" \")\n"
   ]
  },
  {
   "cell_type": "code",
   "execution_count": 79,
   "metadata": {},
   "outputs": [],
   "source": [
    "# WAP enter 5 names and print if name contains vowel."
   ]
  },
  {
   "cell_type": "code",
   "execution_count": 4,
   "metadata": {},
   "outputs": [
    {
     "name": "stdout",
     "output_type": "stream",
     "text": [
      "Not prime\n"
     ]
    }
   ],
   "source": [
    "# WAP to check if a number prime.\n",
    "num = 18\n",
    "\n",
    "p = 0\n",
    "\n",
    "for i in range(2, num):\n",
    "    if num%i ==0:\n",
    "        p = 1\n",
    "\n",
    "if p == 1:\n",
    "    print(\"Not prime\")\n",
    "else:\n",
    "    print(\"Prime\")"
   ]
  },
  {
   "cell_type": "code",
   "execution_count": 4,
   "metadata": {},
   "outputs": [
    {
     "name": "stdout",
     "output_type": "stream",
     "text": [
      "vowel in  sidd\n"
     ]
    }
   ],
   "source": [
    "# WAP enter 5 names and print if name contains vowel\n",
    "\n",
    "for i in range(5):\n",
    "    name = input(\"Enter name: \")\n",
    "\n",
    "    for v in 'aeiou':\n",
    "        if v in name:\n",
    "            print(\"vowel in \", name)\n",
    "            break"
   ]
  },
  {
   "cell_type": "code",
   "execution_count": 5,
   "metadata": {},
   "outputs": [
    {
     "name": "stdout",
     "output_type": "stream",
     "text": [
      "0/n1\n",
      "1\n",
      "2\n",
      "3\n",
      "5\n",
      "8\n",
      "13\n",
      "21\n",
      "34\n",
      "55\n",
      "89\n"
     ]
    }
   ],
   "source": [
    "# fibbonacci Series\n",
    "\n",
    "a, b =0,1\n",
    "print(a,b, sep='/n')\n",
    "\n",
    "for i in range(10):\n",
    "    c=a+b\n",
    "    print(c)\n",
    "    a,b=b,c"
   ]
  }
 ],
 "metadata": {
  "kernelspec": {
   "display_name": "Python 3",
   "language": "python",
   "name": "python3"
  },
  "language_info": {
   "codemirror_mode": {
    "name": "ipython",
    "version": 3
   },
   "file_extension": ".py",
   "mimetype": "text/x-python",
   "name": "python",
   "nbconvert_exporter": "python",
   "pygments_lexer": "ipython3",
   "version": "3.10.11"
  },
  "orig_nbformat": 4
 },
 "nbformat": 4,
 "nbformat_minor": 2
}
