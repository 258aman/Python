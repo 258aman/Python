{
 "cells": [
  {
   "cell_type": "code",
   "execution_count": 1,
   "metadata": {},
   "outputs": [
    {
     "name": "stdout",
     "output_type": "stream",
     "text": [
      "6358.500000000001\n"
     ]
    }
   ],
   "source": [
    "# input the radius of circle and calculate area and circumference\n",
    "radius = int(input('radius'))\n",
    "pie=3.14\n",
    "area=pie*radius*radius\n",
    "print(area)"
   ]
  },
  {
   "cell_type": "code",
   "execution_count": null,
   "metadata": {},
   "outputs": [
    {
     "name": "stdout",
     "output_type": "stream",
     "text": [
      "140.0\n"
     ]
    }
   ],
   "source": [
    "# simple Intrest \n",
    "P=int(input('Principal'))\n",
    "R=int(input('Rate'))\n",
    "T=int(input('Time'))\n",
    "simpleintrest= (P*R*T)/100\n",
    "print(simpleintrest)"
   ]
  },
  {
   "cell_type": "code",
   "execution_count": null,
   "metadata": {},
   "outputs": [
    {
     "name": "stdout",
     "output_type": "stream",
     "text": [
      "89.2\n"
     ]
    }
   ],
   "source": [
    "# Percentage  \n",
    "  \n",
    "M=int(input('Maths'))\n",
    "Sci=int(input('Science'))\n",
    "SSt=int(input('Social science'))\n",
    "H=int(input('Hindi'))\n",
    "Eng=int(input('English'))\n",
    "\n",
    "Percentage=(M+Sci+SSt+H+Eng)/500*100\n",
    "print(Percentage)\n"
   ]
  },
  {
   "cell_type": "code",
   "execution_count": null,
   "metadata": {},
   "outputs": [
    {
     "name": "stdout",
     "output_type": "stream",
     "text": [
      "17.69180601295413\n"
     ]
    }
   ],
   "source": [
    "# Pythagoras Theorum  \n",
    "\n",
    "B=int(input('Base'))\n",
    "P=int(input('Perpendicular'))\n",
    "H=(B**2+P**2)\n",
    "H**=0.5\n",
    "print(H)"
   ]
  },
  {
   "cell_type": "code",
   "execution_count": 6,
   "metadata": {},
   "outputs": [
    {
     "name": "stdout",
     "output_type": "stream",
     "text": [
      "a is greater than b\n"
     ]
    }
   ],
   "source": [
    "# Program to check which one greater\n",
    "\n",
    "a=int(input('enter the value a'))\n",
    "b=int(input('enter the value b'))\n",
    "if a>b:\n",
    "    print('a is greater than b')\n",
    "else:\n",
    "    print('b is greater than a')"
   ]
  },
  {
   "cell_type": "code",
   "execution_count": 19,
   "metadata": {},
   "outputs": [
    {
     "name": "stdout",
     "output_type": "stream",
     "text": [
      "Grade A\n"
     ]
    }
   ],
   "source": [
    "# program to display the grade from mark\n",
    "\n",
    "marks=int(input('enter the value of marks'))\n",
    "\n",
    "if marks>=90 and marks<=100:\n",
    "    print('Grade A')\n",
    "elif marks>=60 and marks<70:\n",
    "    print('Grade B')\n",
    "elif marks>=50 and marks<70:\n",
    "    print('Grade C')\n",
    "elif marks>=0 and marks<50:\n",
    "    print('failure')\n",
    "\n",
    "else:\n",
    "    print('invalid marks')"
   ]
  },
  {
   "cell_type": "code",
   "execution_count": 23,
   "metadata": {},
   "outputs": [
    {
     "name": "stdout",
     "output_type": "stream",
     "text": [
      "num is divisible by 11\n"
     ]
    }
   ],
   "source": [
    "# Program to check if a number is divisible by 7 or 11.\n",
    "\n",
    "num=int(input('enter the value'))\n",
    "\n",
    "if num%7==0 and num%11==0:\n",
    "    print('num is divisible by 7 and 11') \n",
    "elif num%7==0:\n",
    "    print('num is divisible by 7')\n",
    "elif num%11==0:\n",
    "    print('num is divisible by 11')\n",
    "else:\n",
    "    print('num not divisible by both 7 and 11')\n"
   ]
  },
  {
   "cell_type": "code",
   "execution_count": 7,
   "metadata": {},
   "outputs": [
    {
     "name": "stdout",
     "output_type": "stream",
     "text": [
      "traingle is possible\n"
     ]
    }
   ],
   "source": [
    "# triangle is possible or not\n",
    "\n",
    "angle1=int(input('enter the value'))\n",
    "angle2=int(input('enter the value'))\n",
    "angle3=int(input('enter the value'))\n",
    "\n",
    "if angle1+angle2+angle3==180:\n",
    "    print('traingle is possible')\n",
    "else:\n",
    "    print('triangle is not possible')"
   ]
  },
  {
   "cell_type": "code",
   "execution_count": 17,
   "metadata": {},
   "outputs": [
    {
     "name": "stdout",
     "output_type": "stream",
     "text": [
      "invalid value\n"
     ]
    }
   ],
   "source": [
    "# write a program to check an angle input by user is acute,right, obtuse or straight also print if invalid\n",
    "\n",
    "angleA=int(input('enter the value of angle'))\n",
    "\n",
    "if angleA<90:\n",
    "    print('acute angle')\n",
    "elif angleA==90:\n",
    "    print('right angle')\n",
    "elif angleA<180:\n",
    "    print('obtuse angle')\n",
    "elif angleA==180:\n",
    "    print('straight angle')\n",
    "else:\n",
    "    print('invalid value')"
   ]
  },
  {
   "cell_type": "code",
   "execution_count": 6,
   "metadata": {},
   "outputs": [
    {
     "name": "stdout",
     "output_type": "stream",
     "text": [
      "cold\n"
     ]
    }
   ],
   "source": [
    "# programma to print different message on different temperature\n",
    "\n",
    "tem=int(input('value of temperature'))\n",
    "if tem<=10:\n",
    "    print|('very cold')\n",
    "elif tem<=20:   \n",
    "    print('cold')\n",
    "elif tem<=30:\n",
    "    print('hot')\n",
    "elif tem<=40:\n",
    "    print('very hot')\n",
    "else:\n",
    "    print('temperature not defined')"
   ]
  },
  {
   "cell_type": "code",
   "execution_count": 8,
   "metadata": {},
   "outputs": [
    {
     "name": "stdout",
     "output_type": "stream",
     "text": [
      "num is perfect square\n"
     ]
    }
   ],
   "source": [
    "# programme to check num is perfect square\n",
    "num=int(input('enter the value'))\n",
    "\n",
    "sqr = num**0.5\n",
    "if sqr==int(sqr):\n",
    "    print('num is perfect square')\n",
    "else:\n",
    "    print('num is not perfect square')"
   ]
  },
  {
   "cell_type": "code",
   "execution_count": 11,
   "metadata": {},
   "outputs": [
    {
     "name": "stdout",
     "output_type": "stream",
     "text": [
      "not divisible by 2\n"
     ]
    }
   ],
   "source": [
    "# programme to check if a number divisible by 2 but not by 6\n",
    "num=int(input('enter the value'))\n",
    "if num%2==0:\n",
    "    if num%6!=0:\n",
    "        print('the number is divisible by 2 not 6')\n",
    "    else :\n",
    "        print('number is divisible by both')\n",
    "else:\n",
    "    print('not divisible by 2')"
   ]
  },
  {
   "cell_type": "code",
   "execution_count": 12,
   "metadata": {},
   "outputs": [
    {
     "name": "stdout",
     "output_type": "stream",
     "text": [
      "pizza is ready now\n"
     ]
    }
   ],
   "source": [
    "# order for veg and non-veg\n",
    "\n",
    "choice=input('Welcome to Sid restro, 1.veg, 2.non-veg')\n",
    "\n",
    "if choice=='veg':\n",
    "    veg=input('1.Kadai paneer,2.Sahi Paneer, 3.magerita pizza')\n",
    "    if veg=='Kadai paneer':\n",
    "        print('order is on the way')\n",
    "    elif veg=='Sahi paneer':\n",
    "        print('your order ready now on the way')\n",
    "    elif veg=='magerita pizza':\n",
    "        print('pizza is ready now')\n",
    "    else :\n",
    "        print('no order')\n",
    "elif choice=='non-veg':\n",
    "    veg=input('1.Chiken,2.matton, 3.chicken pizza')\n",
    "    if non-veg=='chicken':\n",
    "        print('order is on the way')\n",
    "    elif non-veg=='matton':\n",
    "        print('your order ready now on the way')\n",
    "    elif non-veg=='chicken pizza':\n",
    "        print('pizza is ready now')\n",
    "    else :\n",
    "        print('no order')\n",
    "\n"
   ]
  },
  {
   "cell_type": "code",
   "execution_count": 18,
   "metadata": {},
   "outputs": [
    {
     "name": "stdout",
     "output_type": "stream",
     "text": [
      "year not a leap year\n"
     ]
    }
   ],
   "source": [
    "# WAP to check whether a year is leap year or not.\n",
    "Year = int(input(\"Enter the number:\"))\n",
    "if (Year%400==0) or (Year%4==0):\n",
    "    print('year is leap year')\n",
    "else:\n",
    "    print('year not a leap year')"
   ]
  },
  {
   "cell_type": "code",
   "execution_count": 24,
   "metadata": {},
   "outputs": [
    {
     "name": "stdout",
     "output_type": "stream",
     "text": [
      "30 32 34 36 38 40 42 44 46 48 "
     ]
    }
   ],
   "source": [
    "# 30 to 50 check no.\n",
    "for i in range(30,50):\n",
    "    if i%2==0:\n",
    "        print(i, end=\" \")"
   ]
  },
  {
   "cell_type": "code",
   "execution_count": 31,
   "metadata": {},
   "outputs": [
    {
     "name": "stdout",
     "output_type": "stream",
     "text": [
      "                   #          \n",
      "                  ###         \n",
      "                 #####        \n",
      "                #######       \n",
      "               #########      \n",
      "              ###########     \n",
      "             #############    \n",
      "            ###############   \n",
      "           #################  \n",
      "          ################### \n"
     ]
    }
   ],
   "source": [
    "for i in range(1,20,2):\n",
    "    print(('#' * i).center(20).ljust(10).rjust(30))"
   ]
  },
  {
   "cell_type": "code",
   "execution_count": 47,
   "metadata": {},
   "outputs": [
    {
     "name": "stdout",
     "output_type": "stream",
     "text": [
      "prime number \n"
     ]
    }
   ],
   "source": [
    "# WAP to check if a number prime.\n",
    "num = 17\n",
    "\n",
    "p=0\n",
    "\n",
    "for i in range(2,num):\n",
    "    if num%i==0:\n",
    "       p=1\n",
    "\n",
    "if p == 1:\n",
    "   print('not prime number')\n",
    "else:\n",
    "   print('prime number ')"
   ]
  },
  {
   "cell_type": "code",
   "execution_count": 52,
   "metadata": {},
   "outputs": [
    {
     "name": "stdout",
     "output_type": "stream",
     "text": [
      "vowel in sid\n"
     ]
    }
   ],
   "source": [
    "# WAP enter 5 names and print if name contains vowel\n",
    "for i in range(5):\n",
    "    name=input('enter the name:')\n",
    "    \n",
    "    for v in 'aeiou':\n",
    "        if v in name:\n",
    "            print(\"vowel in\", name)\n",
    "            break"
   ]
  },
  {
   "cell_type": "code",
   "execution_count": 56,
   "metadata": {},
   "outputs": [
    {
     "name": "stdout",
     "output_type": "stream",
     "text": [
      "4/n5\n",
      "9\n",
      "14\n",
      "23\n",
      "37\n",
      "60\n",
      "97\n",
      "157\n",
      "254\n",
      "411\n",
      "665\n",
      "1076\n",
      "1741\n",
      "2817\n",
      "4558\n",
      "7375\n"
     ]
    }
   ],
   "source": [
    "# fibbonacci Series\n",
    "a,b=4,5\n",
    "print(a,b,sep='/n')\n",
    "\n",
    "for i in range(15):\n",
    "    c=a+b\n",
    "    print(c)\n",
    "    a,b=b,c"
   ]
  },
  {
   "cell_type": "code",
   "execution_count": 62,
   "metadata": {},
   "outputs": [
    {
     "name": "stdout",
     "output_type": "stream",
     "text": [
      "my name issiddhantmy hobby isTo be always fit\n"
     ]
    }
   ],
   "source": [
    "# conacatenation of strings\n",
    "\n",
    "myname='siddhant'\n",
    "myhobby='To be always fit'\n",
    "print('my name is' + myname+ 'my hobby is'+ myhobby)"
   ]
  },
  {
   "cell_type": "code",
   "execution_count": 65,
   "metadata": {},
   "outputs": [
    {
     "name": "stdout",
     "output_type": "stream",
     "text": [
      "my name is siddhant and my hobby is To be always fit\n"
     ]
    }
   ],
   "source": [
    "print(f'my name is {myname} and my hobby is {myhobby}')"
   ]
  },
  {
   "cell_type": "code",
   "execution_count": 69,
   "metadata": {},
   "outputs": [
    {
     "name": "stdout",
     "output_type": "stream",
     "text": [
      "19\n",
      "18\n",
      "17\n",
      "16\n",
      "15\n",
      "14\n",
      "13\n",
      "12\n",
      "11\n",
      "10\n",
      "9\n",
      "8\n",
      "7\n",
      "6\n",
      "5\n",
      "5\n"
     ]
    }
   ],
   "source": [
    "# While loops\n",
    "num=20\n",
    "while num>5:\n",
    "    num-=1\n",
    "    print(num)\n",
    "\n",
    "print(num)\n"
   ]
  },
  {
   "cell_type": "code",
   "execution_count": 4,
   "metadata": {},
   "outputs": [
    {
     "name": "stdout",
     "output_type": "stream",
     "text": [
      "Sorry try again\n",
      "Sorry try again\n",
      "Sorry try again\n",
      "welcome to my company\n"
     ]
    }
   ],
   "source": [
    "# wap to set a password\n",
    "\n",
    "mypassword='jai shree ram'\n",
    "while True:\n",
    "    pswd=input('enter a password')\n",
    "    if pswd=='jai shree ram':\n",
    "        print('welcome to my company')\n",
    "        break\n",
    "    else:\n",
    "        print('Sorry try again')"
   ]
  },
  {
   "cell_type": "code",
   "execution_count": 17,
   "metadata": {},
   "outputs": [
    {
     "name": "stdout",
     "output_type": "stream",
     "text": [
      "Sorry try again\n",
      "Sorry try again\n",
      "Sorry try again\n",
      "you have to reached maximum limit\n"
     ]
    }
   ],
   "source": [
    "mypassword='jai shree ram'\n",
    "count=0\n",
    "while True:s\n",
    "    pswd=input('enter a password')\n",
    "    if pswd==mypassword:\n",
    "        print('welcome to my company')\n",
    "        break\n",
    "    else:\n",
    "        print('Sorry try again')\n",
    "    count +=1\n",
    "    if count==3:\n",
    "       print('you have to reached maximum limit')\n",
    "       break\n",
    "    "
   ]
  },
  {
   "cell_type": "code",
   "execution_count": 24,
   "metadata": {},
   "outputs": [
    {
     "name": "stdout",
     "output_type": "stream",
     "text": [
      "654321\n",
      "reverse of num is 123456\n"
     ]
    }
   ],
   "source": [
    "# Program to reverse digits of a number\n",
    "num=int(input('enter a value'))\n",
    "reverse=0\n",
    "print(num)\n",
    "\n",
    "while num>0:\n",
    "    d=num%10\n",
    "    reverse=reverse*10+ d\n",
    "    num=num//10\n",
    "print('reverse of num is', reverse)"
   ]
  },
  {
   "cell_type": "code",
   "execution_count": 30,
   "metadata": {},
   "outputs": [
    {
     "name": "stdout",
     "output_type": "stream",
     "text": [
      "407\n",
      "the number is armstrong no\n"
     ]
    }
   ],
   "source": [
    "# armstrong number\n",
    "num=int(input('enter a value:'))\n",
    "reverse=0\n",
    "u=num\n",
    "print(num)\n",
    "\n",
    "while num>0:\n",
    "    d=num%10\n",
    "    reverse=reverse+d**3\n",
    "    num=num//10\n",
    "\n",
    "if u==reverse:\n",
    "    print('the number is armstrong no')\n",
    "else:\n",
    "    print('the number is not armstrong no')"
   ]
  },
  {
   "cell_type": "code",
   "execution_count": 32,
   "metadata": {},
   "outputs": [
    {
     "name": "stdout",
     "output_type": "stream",
     "text": [
      "[45, 78, 96, 87, 20, 21, 19]\n",
      "[45, 78, 87, 96, 20, 21, 19]\n",
      "[45, 78, 87, 20, 96, 21, 19]\n",
      "[45, 78, 87, 20, 21, 96, 19]\n",
      "[45, 78, 87, 20, 21, 19, 96]\n",
      "\n",
      "[45, 78, 20, 87, 21, 19, 96]\n",
      "[45, 78, 20, 21, 87, 19, 96]\n",
      "[45, 78, 20, 21, 19, 87, 96]\n",
      "\n",
      "[45, 20, 78, 21, 19, 87, 96]\n",
      "[45, 20, 21, 78, 19, 87, 96]\n",
      "[45, 20, 21, 19, 78, 87, 96]\n",
      "\n",
      "[20, 45, 21, 19, 78, 87, 96]\n",
      "[20, 21, 45, 19, 78, 87, 96]\n",
      "[20, 21, 19, 45, 78, 87, 96]\n",
      "\n",
      "[20, 19, 21, 45, 78, 87, 96]\n",
      "\n",
      "[19, 20, 21, 45, 78, 87, 96]\n",
      "\n"
     ]
    }
   ],
   "source": [
    "nums=[78,45,96,87,20,21,19]\n",
    "\n",
    "for i in range(0,len(nums)-1):\n",
    "    for j in range(0, len(nums)-i-1):\n",
    "        if nums[j]>nums[j+1]:\n",
    "            nums[j], nums[j+1]=nums[j+1], nums[j]\n",
    "            print(nums)\n",
    "    print()"
   ]
  },
  {
   "cell_type": "code",
   "execution_count": 50,
   "metadata": {},
   "outputs": [
    {
     "name": "stdout",
     "output_type": "stream",
     "text": [
      "[45, 78, 96, 87, 20, 21, 19]\n",
      "[45, 78, 87, 96, 20, 21, 19]\n",
      "[45, 78, 87, 20, 96, 21, 19]\n",
      "[45, 78, 87, 20, 21, 96, 19]\n",
      "[45, 78, 87, 20, 21, 19, 96]\n",
      "[45, 78, 20, 87, 21, 19, 96]\n",
      "[45, 78, 20, 21, 87, 19, 96]\n",
      "[45, 78, 20, 21, 19, 87, 96]\n",
      "[45, 20, 78, 21, 19, 87, 96]\n",
      "[45, 20, 21, 78, 19, 87, 96]\n",
      "[45, 20, 21, 19, 78, 87, 96]\n",
      "[20, 45, 21, 19, 78, 87, 96]\n",
      "[20, 21, 45, 19, 78, 87, 96]\n",
      "[20, 21, 19, 45, 78, 87, 96]\n",
      "[20, 19, 21, 45, 78, 87, 96]\n",
      "[19, 20, 21, 45, 78, 87, 96]\n",
      "minimum number 19\n",
      "maximum number 96\n"
     ]
    }
   ],
   "source": [
    "nums=[78,45,96,87,20,21,19]\n",
    "\n",
    "for i in range(0,len(nums)-1):\n",
    "    for j in range(0, len(nums)-i-1):\n",
    "        if nums[j] > nums[j+1]:\n",
    "            nums[j], nums[j+1]=nums[j+1], nums[j]\n",
    "            print(nums)\n",
    "print('minimum number', nums[0])\n",
    "print('maximum number', nums[-1])"
   ]
  }
 ],
 "metadata": {
  "kernelspec": {
   "display_name": "Python 3",
   "language": "python",
   "name": "python3"
  },
  "language_info": {
   "codemirror_mode": {
    "name": "ipython",
    "version": 3
   },
   "file_extension": ".py",
   "mimetype": "text/x-python",
   "name": "python",
   "nbconvert_exporter": "python",
   "pygments_lexer": "ipython3",
   "version": "3.11.4"
  },
  "orig_nbformat": 4
 },
 "nbformat": 4,
 "nbformat_minor": 2
}
